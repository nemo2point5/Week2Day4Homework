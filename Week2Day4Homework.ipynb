{
 "cells": [
  {
   "cell_type": "code",
   "execution_count": 24,
   "metadata": {},
   "outputs": [],
   "source": [
    "#Exercises\n",
    "#Exercise 1 - Turn the shopping cart program from yesterday into an object-oriented program\n",
    "#The comments in the cell below are there as a guide for thinking about the problem. However, if you feel a different way is best for you and your own thought process, please do what feels best for you by all means.\n",
    "\n",
    "#Customer order site\n",
    "class Cart:\n",
    "    def __init__(self, category, price, aisle, item_qty):\n",
    "        self.category = category\n",
    "        self.price = price\n",
    "        self.aisle = aisle\n",
    "        self.item_qty = quantity\n",
    "        \n",
    "    def add_groceries(self):\n",
    "        category = input('What would you like?')\n",
    "        price = input('How much is it?')\n",
    "        aisle = input('Which aisle is it on?')\n",
    "        item_qty = input ('How many?')\n",
    "\n",
    "def shopping_list(item):\n",
    "    groceries[item] = cart\n",
    "    \n",
    "def main():\n",
    "    cart = []\n",
    "    while True:\n",
    "        action = input('Would you like to Add/Review/Delete or Finish?')\n",
    "        \n",
    "        if action == 'Add':\n",
    "            item = input('What would you like to add? ')\n",
    "            cart.append(item)\n",
    "            \n",
    "        elif action == 'Review':\n",
    "            print(cart)\n",
    "            \n",
    "        elif action == 'Delete':\n",
    "            removed_item = input('What would you like to Delete?')\n",
    "            cart.remove(removed_item)\n",
    "        else:\n",
    "            break\n",
    "    print(cart)\n",
    "    return cart\n",
    "\n",
    "#Bulk Order Page\n",
    "\n",
    "class Vendor:\n",
    "    def __init__(self, name, order_dte, bulk_qty, expiration):\n",
    "        self.name = name\n",
    "        self.order_dte = order_date\n",
    "        self.bulk_qty = bulk_quantity\n",
    "        self.expiration = expiration\n",
    "        \n",
    "    def add_bulk(self):\n",
    "        name = input('What Vendor?')\n",
    "        order_date = input('When is this needed?')\n",
    "        bulk_quantity = input ('How many pallets/cases?')\n",
    "        expiration = input ('Know your inventory: How long will these hold on shelves?')\n",
    "        \n",
    "def bulk_list(item):\n",
    "    groceries[item] = bulkcart\n",
    "        \n",
    "def stock_order(self):\n",
    "    bulkcart = []\n",
    "    while True:\n",
    "        action = input('Bulk is a great way to save. What would you like to Add/Review/Delete or Ship?')\n",
    "\n",
    "        if action == 'Add':\n",
    "            name = input('What Vendor?')\n",
    "            order_date = input('When is this needed?')\n",
    "            bulk_quantity = input ('How many pallets/cases?')\n",
    "            expiration = input ('Know your inventory: How long will these hold on shelves?')\n",
    "            bulkcart.append(item)\n",
    "\n",
    "        elif action == 'Review':\n",
    "            print(bulkcart)\n",
    "\n",
    "        elif action == 'Delete':\n",
    "            removed_item = input('What would you like to Delete?')\n",
    "            bulkcart.remove(removed_item)\n",
    "\n",
    "        else:\n",
    "            break\n",
    "    print(bulkcart)\n",
    "    return bulkcart\n",
    "                \n",
    "    def print_vendor(self):\n",
    "        print (f'I would like to order {self.name} on {self.order_dte}. I need {self.bulk_qty} cases or pallets. I am aware that they expire on {self.expiration}.')"
   ]
  },
  {
   "cell_type": "code",
   "execution_count": 23,
   "metadata": {},
   "outputs": [
    {
     "name": "stdout",
     "output_type": "stream",
     "text": [
      "Would you like to Add/Review/Delete or Finish?Add\n",
      "What would you like to add? Fish\n",
      "Would you like to Add/Review/Delete or Finish?Add\n",
      "What would you like to add? Chips\n",
      "Would you like to Add/Review/Delete or Finish?Add\n",
      "What would you like to add? Soda\n",
      "Would you like to Add/Review/Delete or Finish?Add\n",
      "What would you like to add? Chicken\n",
      "Would you like to Add/Review/Delete or Finish?Review\n",
      "['Fish', 'Chips', 'Soda', 'Chicken']\n",
      "Would you like to Add/Review/Delete or Finish?Delete\n",
      "What would you like to Delete?Chicken\n",
      "Would you like to Add/Review/Delete or Finish?Finish\n",
      "['Fish', 'Chips', 'Soda']\n"
     ]
    },
    {
     "data": {
      "text/plain": [
       "['Fish', 'Chips', 'Soda']"
      ]
     },
     "execution_count": 23,
     "metadata": {},
     "output_type": "execute_result"
    }
   ],
   "source": [
    "main()"
   ]
  },
  {
   "cell_type": "code",
   "execution_count": 25,
   "metadata": {},
   "outputs": [
    {
     "ename": "TypeError",
     "evalue": "__init__() missing 4 required positional arguments: 'name', 'order_dte', 'bulk_qty', and 'expiration'",
     "output_type": "error",
     "traceback": [
      "\u001b[1;31m---------------------------------------------------------------------------\u001b[0m",
      "\u001b[1;31mTypeError\u001b[0m                                 Traceback (most recent call last)",
      "\u001b[1;32m<ipython-input-25-8a886929f997>\u001b[0m in \u001b[0;36m<module>\u001b[1;34m\u001b[0m\n\u001b[1;32m----> 1\u001b[1;33m \u001b[0mVendor\u001b[0m\u001b[1;33m(\u001b[0m\u001b[1;33m)\u001b[0m\u001b[1;33m\u001b[0m\u001b[1;33m\u001b[0m\u001b[0m\n\u001b[0m",
      "\u001b[1;31mTypeError\u001b[0m: __init__() missing 4 required positional arguments: 'name', 'order_dte', 'bulk_qty', and 'expiration'"
     ]
    }
   ],
   "source": [
    "Vendor()"
   ]
  },
  {
   "cell_type": "code",
   "execution_count": null,
   "metadata": {},
   "outputs": [],
   "source": []
  },
  {
   "cell_type": "code",
   "execution_count": null,
   "metadata": {},
   "outputs": [],
   "source": []
  }
 ],
 "metadata": {
  "kernelspec": {
   "display_name": "Python 3",
   "language": "python",
   "name": "python3"
  },
  "language_info": {
   "codemirror_mode": {
    "name": "ipython",
    "version": 3
   },
   "file_extension": ".py",
   "mimetype": "text/x-python",
   "name": "python",
   "nbconvert_exporter": "python",
   "pygments_lexer": "ipython3",
   "version": "3.7.3"
  }
 },
 "nbformat": 4,
 "nbformat_minor": 2
}
