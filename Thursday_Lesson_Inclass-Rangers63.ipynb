{
 "cells": [
  {
   "cell_type": "markdown",
   "metadata": {},
   "source": [
    "# Object-Oriented-Programming (OOP)"
   ]
  },
  {
   "cell_type": "markdown",
   "metadata": {},
   "source": [
    "## Tasks Today:\n",
    "\n",
    "   \n",
    "\n",
    "1) <b>Creating a Class (Initializing/Declaring)</b> <br>\n",
    "2) <b>Using a Class (Instantiating)</b> <br>\n",
    " &nbsp;&nbsp;&nbsp;&nbsp; a) Creating One Instance <br>\n",
    " &nbsp;&nbsp;&nbsp;&nbsp; b) Creating Multiple Instances <br>\n",
    " &nbsp;&nbsp;&nbsp;&nbsp; c) In-Class Exercise #1 - Create a Class 'Car' and instantiate three different makes of cars <br>\n",
    "3) <b>The \\__init\\__() Method</b> <br>\n",
    " &nbsp;&nbsp;&nbsp;&nbsp; a) The 'self' Attribute <br>\n",
    "4) <b>Class Attributes</b> <br>\n",
    " &nbsp;&nbsp;&nbsp;&nbsp; a) Initializing Attributes <br>\n",
    " &nbsp;&nbsp;&nbsp;&nbsp; b) Setting an Attribute Outside of the \\__init\\__() Method <br>\n",
    " &nbsp;&nbsp;&nbsp;&nbsp; c) Setting Defaults for Attributes <br>\n",
    " &nbsp;&nbsp;&nbsp;&nbsp; d) Accessing Class Attributes <br>\n",
    " &nbsp;&nbsp;&nbsp;&nbsp; e) Changing Class Attributes <br>\n",
    " &nbsp;&nbsp;&nbsp;&nbsp; f) In-Class Exercise #2 - Add a color and wheels attribute to your 'Car' class <br>\n",
    "5) <b>Class Methods</b> <br>\n",
    " &nbsp;&nbsp;&nbsp;&nbsp; a) Creating <br>\n",
    " &nbsp;&nbsp;&nbsp;&nbsp; b) Calling <br>\n",
    " &nbsp;&nbsp;&nbsp;&nbsp; c) Modifying an Attribute's Value Through a Method <br>\n",
    " &nbsp;&nbsp;&nbsp;&nbsp; d) Incrementing an Attribute's Value Through a Method <br>\n",
    " &nbsp;&nbsp;&nbsp;&nbsp; e) In-Class Exercise #3 - Add a method that prints the cars color and wheel number, then call them <br>\n",
    "6) <b>Inheritance</b> <br>\n",
    " &nbsp;&nbsp;&nbsp;&nbsp; a) Syntax for Inheriting from a Parent Class <br>\n",
    " &nbsp;&nbsp;&nbsp;&nbsp; b) The \\__init\\__() Method for a Child Class (super()) <br>\n",
    " &nbsp;&nbsp;&nbsp;&nbsp; c) Defining Attributes and Methods for the Child Class <br>\n",
    " &nbsp;&nbsp;&nbsp;&nbsp; d) Method Overriding <br>\n",
    " &nbsp;&nbsp;&nbsp;&nbsp; e) In-Class Exercise #4 - Create a class 'Ford' that inherits from 'Car' class and initialize it as a Blue Ford Explorer with 4 wheels using the super() method <br>\n",
    "7) <b>Classes as Attributes</b> <br>\n",
    "8) <b>Exercises</b> <br>\n",
    " &nbsp;&nbsp;&nbsp;&nbsp; a) Exercise #1 - Turn the shopping cart program from yesterday into an object-oriented program <br>"
   ]
  },
  {
   "cell_type": "markdown",
   "metadata": {},
   "source": [
    "## Creating a Class (Initializing/Declaring)\n",
    "<p>When creating a class, function, or even a variable you are initializing that object. Initializing and Declaring occur at the same time in Python, whereas in lower level languages you have to declare an object before initializing it. This is the first step in the process of using a class.</p>"
   ]
  },
  {
   "cell_type": "code",
   "execution_count": 1,
   "metadata": {},
   "outputs": [],
   "source": [
    "class Car():\n",
    "    color = 'Red'\n",
    "    make = 'Honda'\n",
    "    model = 'Accord'\n",
    "    year = 2019"
   ]
  },
  {
   "cell_type": "code",
   "execution_count": 2,
   "metadata": {},
   "outputs": [],
   "source": [
    "car1 = Car()"
   ]
  },
  {
   "cell_type": "code",
   "execution_count": 3,
   "metadata": {},
   "outputs": [
    {
     "name": "stdout",
     "output_type": "stream",
     "text": [
      "Accord\n"
     ]
    }
   ],
   "source": [
    "print(car1.model)"
   ]
  },
  {
   "cell_type": "code",
   "execution_count": 11,
   "metadata": {},
   "outputs": [],
   "source": [
    "car1.color = 'Green'"
   ]
  },
  {
   "cell_type": "code",
   "execution_count": 12,
   "metadata": {},
   "outputs": [
    {
     "data": {
      "text/plain": [
       "'Green'"
      ]
     },
     "execution_count": 12,
     "metadata": {},
     "output_type": "execute_result"
    }
   ],
   "source": [
    "car1.color"
   ]
  },
  {
   "cell_type": "code",
   "execution_count": null,
   "metadata": {},
   "outputs": [],
   "source": [
    "# class ShoppingCart"
   ]
  },
  {
   "cell_type": "markdown",
   "metadata": {},
   "source": [
    "## Using a Class (Instantiating)\n",
    "<p>The process of creating a class is called <i>Instantiating</i>. Each time you create a variable of that type of class, it is referred to as an <i>Instance</i> of that class. This is the second step in the process of using a class.</p>"
   ]
  },
  {
   "cell_type": "markdown",
   "metadata": {},
   "source": [
    "##### Creating One Instance"
   ]
  },
  {
   "cell_type": "code",
   "execution_count": 7,
   "metadata": {},
   "outputs": [],
   "source": [
    "ford = Car()\n",
    "\n",
    "ford.color = 'blue'"
   ]
  },
  {
   "cell_type": "code",
   "execution_count": 9,
   "metadata": {},
   "outputs": [
    {
     "data": {
      "text/plain": [
       "'blue'"
      ]
     },
     "execution_count": 9,
     "metadata": {},
     "output_type": "execute_result"
    }
   ],
   "source": [
    "ford.color"
   ]
  },
  {
   "cell_type": "code",
   "execution_count": 10,
   "metadata": {},
   "outputs": [
    {
     "data": {
      "text/plain": [
       "'Red'"
      ]
     },
     "execution_count": 10,
     "metadata": {},
     "output_type": "execute_result"
    }
   ],
   "source": [
    "car1.color"
   ]
  },
  {
   "cell_type": "markdown",
   "metadata": {},
   "source": [
    "##### Creating Multiple Instances"
   ]
  },
  {
   "cell_type": "code",
   "execution_count": null,
   "metadata": {},
   "outputs": [],
   "source": [
    "car2 = Car()\n",
    "car3 = Car()"
   ]
  },
  {
   "cell_type": "markdown",
   "metadata": {},
   "source": [
    "##### In-Class Exercise #1 - Create a Class 'Car' and Instantiate three different makes of cars"
   ]
  },
  {
   "cell_type": "code",
   "execution_count": 30,
   "metadata": {},
   "outputs": [
    {
     "data": {
      "text/plain": [
       "'Walmart Brand'"
      ]
     },
     "execution_count": 30,
     "metadata": {},
     "output_type": "execute_result"
    }
   ],
   "source": [
    "# __init__()  Method\n",
    "\n",
    "class Product:\n",
    "    def __init__(self, color, price, brand, name):\n",
    "        self.color = color\n",
    "        self.price = price\n",
    "        self.brand = brand\n",
    "        self.name = name\n",
    "        \n",
    "shoes = Product('Red', 169.00, 'Nike', 'The new Doug Flutes')\n",
    "hoodies = Product('Grey', '$70', 'Under Armour', 'A ARon Rogers Everyday wear')\n",
    "shorts = Product('Black', '$30.00', 'Generic', 'Walmart Brand')\n",
    "\n",
    "\n",
    "shoes.name\n",
    "hoodies.name\n",
    "shorts.name"
   ]
  },
  {
   "cell_type": "code",
   "execution_count": 31,
   "metadata": {},
   "outputs": [
    {
     "name": "stdout",
     "output_type": "stream",
     "text": [
      "Pruduct Nameshorts\n"
     ]
    }
   ],
   "source": [
    "name = input('Pruduct Name')"
   ]
  },
  {
   "cell_type": "markdown",
   "metadata": {},
   "source": [
    "## The \\__init\\__() Method <br>\n",
    "<p>This method is used in almost every created class, and called only once upon the creation of the class instance. This method will initialize all variables needed for the object.</p>"
   ]
  },
  {
   "cell_type": "code",
   "execution_count": null,
   "metadata": {},
   "outputs": [],
   "source": []
  },
  {
   "cell_type": "code",
   "execution_count": null,
   "metadata": {},
   "outputs": [],
   "source": [
    "#equilvilant methods This one is more code\n",
    "class Car():\n",
    "    color = 'Red'\n",
    "    make = 'Honda'\n",
    "    model = 'Accord'\n",
    "    year = 2019\n",
    "    \n",
    "for = Car()\n",
    "ford.color = 'Green'\n",
    "ford.make = 'Ford'\n",
    "ford.model = 'Explorer'\n",
    "ford.year = 2018"
   ]
  },
  {
   "cell_type": "code",
   "execution_count": 20,
   "metadata": {},
   "outputs": [
    {
     "ename": "SyntaxError",
     "evalue": "invalid syntax (<ipython-input-20-eb55b266b6dc>, line 15)",
     "output_type": "error",
     "traceback": [
      "\u001b[1;36m  File \u001b[1;32m\"<ipython-input-20-eb55b266b6dc>\"\u001b[1;36m, line \u001b[1;32m15\u001b[0m\n\u001b[1;33m    def __init\u001b[0m\n\u001b[1;37m              ^\u001b[0m\n\u001b[1;31mSyntaxError\u001b[0m\u001b[1;31m:\u001b[0m invalid syntax\n"
     ]
    }
   ],
   "source": [
    "#This method is used very often\n",
    "class Package:\n",
    "    # Information about the package\n",
    "    def __init__(self, name):\n",
    "        self.name = name\n",
    "\n",
    "class Car:\n",
    "    def __init__(self, make, model, color, year):\n",
    "        self.color = color # Instance Attibtute\n",
    "        self.make = make\n",
    "        self.model = model\n",
    "        self.year = year\n",
    "        \n",
    "class Lot:\n",
    "    def __init\n",
    "        \n",
    "package_basic = Package('Basic')\n",
    "package_limited = Package('Limited')\n",
    "\n",
    "explorer = Car('Ford', 'Explorer', 'Green', 2018, package_basic) #self == ford        \n",
    "truck = Car('Ford', 'Explored', 'Green', 2018) # self == ford\n",
    "ford.model"
   ]
  },
  {
   "cell_type": "code",
   "execution_count": null,
   "metadata": {},
   "outputs": [],
   "source": []
  },
  {
   "cell_type": "markdown",
   "metadata": {},
   "source": [
    "##### The 'self' Attribute <br>\n",
    "<p>This attribute is required to keep track of specific instance's attributes. Without the self attribute, the program would not know how to reference or keep track of an instance's attributes.</p>"
   ]
  },
  {
   "cell_type": "code",
   "execution_count": null,
   "metadata": {},
   "outputs": [],
   "source": [
    "# see above"
   ]
  },
  {
   "cell_type": "markdown",
   "metadata": {},
   "source": [
    "## Class Attributes <br>\n",
    "<p>While variables are inside of a class, they are referred to as attributes and not variables. When someone says 'attribute' you know they're speaking about a class. Attributes can be initialized through the init method, or outside of it.</p>"
   ]
  },
  {
   "cell_type": "markdown",
   "metadata": {},
   "source": [
    "##### Initializing Attributes"
   ]
  },
  {
   "cell_type": "code",
   "execution_count": 33,
   "metadata": {},
   "outputs": [
    {
     "ename": "TypeError",
     "evalue": "__init__() missing 1 required positional argument: 'name'",
     "output_type": "error",
     "traceback": [
      "\u001b[1;31m---------------------------------------------------------------------------\u001b[0m",
      "\u001b[1;31mTypeError\u001b[0m                                 Traceback (most recent call last)",
      "\u001b[1;32m<ipython-input-33-fba5be9a2aa4>\u001b[0m in \u001b[0;36m<module>\u001b[1;34m\u001b[0m\n\u001b[0;32m      9\u001b[0m         \u001b[0mself\u001b[0m\u001b[1;33m.\u001b[0m\u001b[0mproducts\u001b[0m\u001b[1;33m.\u001b[0m\u001b[0mappend\u001b[0m\u001b[1;33m(\u001b[0m\u001b[0mself\u001b[0m\u001b[1;33m)\u001b[0m\u001b[1;33m\u001b[0m\u001b[1;33m\u001b[0m\u001b[0m\n\u001b[0;32m     10\u001b[0m \u001b[1;33m\u001b[0m\u001b[0m\n\u001b[1;32m---> 11\u001b[1;33m \u001b[0mmilk\u001b[0m \u001b[1;33m=\u001b[0m \u001b[0mProduct\u001b[0m\u001b[1;33m(\u001b[0m\u001b[1;34m'Whole Milk'\u001b[0m\u001b[1;33m,\u001b[0m \u001b[1;34m'Dairy Palace'\u001b[0m\u001b[1;33m,\u001b[0m \u001b[1;36m4.95\u001b[0m\u001b[1;33m)\u001b[0m\u001b[1;33m\u001b[0m\u001b[1;33m\u001b[0m\u001b[0m\n\u001b[0m\u001b[0;32m     12\u001b[0m \u001b[0mapples\u001b[0m \u001b[1;33m=\u001b[0m \u001b[0mProduct\u001b[0m\u001b[1;33m(\u001b[0m\u001b[1;34m'Bag of apples'\u001b[0m\u001b[1;33m,\u001b[0m \u001b[1;34m'Apple Farms'\u001b[0m\u001b[1;33m,\u001b[0m \u001b[1;36m5.99\u001b[0m\u001b[1;33m)\u001b[0m\u001b[1;33m\u001b[0m\u001b[1;33m\u001b[0m\u001b[0m\n",
      "\u001b[1;31mTypeError\u001b[0m: __init__() missing 1 required positional argument: 'name'"
     ]
    }
   ],
   "source": [
    "# see above\n",
    "class Products:\n",
    "    products = []\n",
    "    \n",
    "    def __init__(self, name, brand, price):\n",
    "        self.name = name\n",
    "        self.brand = brand\n",
    "        self.price = price\n",
    "        self.products.append(self)\n",
    "        \n",
    "milk = Product('Whole Milk', 'Dairy Palace', 4.95)\n",
    "apples = Product('Bag of apples', 'Apple Farms', 5.99)"
   ]
  },
  {
   "cell_type": "code",
   "execution_count": null,
   "metadata": {},
   "outputs": [],
   "source": []
  },
  {
   "cell_type": "markdown",
   "metadata": {},
   "source": [
    "##### Accessing Class Attributes"
   ]
  },
  {
   "cell_type": "code",
   "execution_count": null,
   "metadata": {
    "scrolled": true
   },
   "outputs": [],
   "source": [
    "# See Above"
   ]
  },
  {
   "cell_type": "markdown",
   "metadata": {},
   "source": [
    "##### Setting Defaults for Attributes"
   ]
  },
  {
   "cell_type": "code",
   "execution_count": null,
   "metadata": {},
   "outputs": [],
   "source": []
  },
  {
   "cell_type": "markdown",
   "metadata": {},
   "source": [
    "##### Changing Class Attributes <br>\n",
    "<p>Keep in mind there are global class attributes and then there are attributes only available to each class instance which won't effect other classes.</p>"
   ]
  },
  {
   "cell_type": "code",
   "execution_count": null,
   "metadata": {},
   "outputs": [],
   "source": []
  },
  {
   "cell_type": "code",
   "execution_count": null,
   "metadata": {},
   "outputs": [],
   "source": []
  },
  {
   "cell_type": "markdown",
   "metadata": {},
   "source": [
    "##### In-Class Exercise #2 - Add a stock_qty attribute to your 'Car' class then print out two different instances with different stock_qty and prices"
   ]
  },
  {
   "cell_type": "code",
   "execution_count": 35,
   "metadata": {},
   "outputs": [
    {
     "ename": "SyntaxError",
     "evalue": "EOL while scanning string literal (<ipython-input-35-bc4736bd8f0d>, line 18)",
     "output_type": "error",
     "traceback": [
      "\u001b[1;36m  File \u001b[1;32m\"<ipython-input-35-bc4736bd8f0d>\"\u001b[1;36m, line \u001b[1;32m18\u001b[0m\n\u001b[1;33m    print(f'There are {hoodies.stock_qty} items in stock that are each {hoodies.price} each )\u001b[0m\n\u001b[1;37m                                                                                             ^\u001b[0m\n\u001b[1;31mSyntaxError\u001b[0m\u001b[1;31m:\u001b[0m EOL while scanning string literal\n"
     ]
    }
   ],
   "source": [
    "class Product:\n",
    "    def __init__(self, color, price, brand, name, stock_qty):\n",
    "        self.color = color\n",
    "        self.price = price\n",
    "        self.brand = brand\n",
    "        self.name = name\n",
    "        self.stock_qty = stock_qty\n",
    "walmart= Product(5,3,1,5)\n",
    "flutes = Product(4,7,2,1)\n",
    "\n",
    "\n",
    "        \n",
    "shoes = Product('Red', 169.00, 'Nike', 'The new Doug Flutes')\n",
    "hoodies = Product('Grey', '$70', 'Under Armour', 'A ARon Rogers Everyday wear')\n",
    "shorts = Product('Black', '$30.00', 'Generic', 'Walmart Brand')\n",
    "\n",
    "print(f\"Walmart Brand: {walmart.name} and Walmart Brand: {walmart.price} and {walmart.}\")\n",
    "print(f'There are {hoodies.stock_qty} items in stock that are each {hoodies.price} each )"
   ]
  },
  {
   "cell_type": "markdown",
   "metadata": {},
   "source": [
    "## Class Methods <br>\n",
    "<p>While inside of a class, functions are referred to as 'methods'. If you hear someone mention methods, they're speaking about classes. Methods are essentially functions, but only callable on the instances of a class.</p>"
   ]
  },
  {
   "cell_type": "markdown",
   "metadata": {},
   "source": [
    "##### Creating"
   ]
  },
  {
   "cell_type": "code",
   "execution_count": 45,
   "metadata": {},
   "outputs": [],
   "source": [
    "class Car:\n",
    "    def __init__(self, make, model, color, year, miles):\n",
    "        self.make = make\n",
    "        self.model = model\n",
    "        self.color = color\n",
    "        self.year =  year\n",
    "        self.miles = miles\n",
    "        \n",
    "    def paint_car(self, color):\n",
    "        self.color = color\n",
    "        print(f'The car was painted {color}')\n",
    "        \n",
    "    def drive_car(self, miles_driven):\n",
    "        self.miles += miles_driven\n",
    "        print('VROOM VROOM!')\n",
    "        \n",
    "    def print_car(self):\n",
    "        print(f'This car is a {self.year} {self.make} {self.model} that is {self.color} and has {self.miles}')"
   ]
  },
  {
   "cell_type": "code",
   "execution_count": 46,
   "metadata": {},
   "outputs": [],
   "source": [
    "crv = Car('Honda', 'CRV', 'Green', 2018, 5000)\n",
    "tlx = Car('Honda', 'CRV', 'Green', 2014, 4580)"
   ]
  },
  {
   "cell_type": "code",
   "execution_count": 41,
   "metadata": {},
   "outputs": [
    {
     "name": "stdout",
     "output_type": "stream",
     "text": [
      "VROOM VROOM!\n"
     ]
    }
   ],
   "source": [
    "crv.drive_car(100)"
   ]
  },
  {
   "cell_type": "code",
   "execution_count": 42,
   "metadata": {},
   "outputs": [
    {
     "data": {
      "text/plain": [
       "5200"
      ]
     },
     "execution_count": 42,
     "metadata": {},
     "output_type": "execute_result"
    }
   ],
   "source": [
    "crv.miles"
   ]
  },
  {
   "cell_type": "markdown",
   "metadata": {},
   "source": [
    "##### Calling"
   ]
  },
  {
   "cell_type": "code",
   "execution_count": null,
   "metadata": {},
   "outputs": [],
   "source": [
    "# See Above"
   ]
  },
  {
   "cell_type": "markdown",
   "metadata": {},
   "source": [
    "##### Modifying an Attribute's Value Through a Method"
   ]
  },
  {
   "cell_type": "code",
   "execution_count": null,
   "metadata": {},
   "outputs": [],
   "source": []
  },
  {
   "cell_type": "markdown",
   "metadata": {},
   "source": [
    "##### Incrementing an Attribute's Value Through a Method"
   ]
  },
  {
   "cell_type": "code",
   "execution_count": null,
   "metadata": {},
   "outputs": [],
   "source": []
  },
  {
   "cell_type": "markdown",
   "metadata": {},
   "source": [
    "##### In-Class Exercise #3 - Add a method that takes in three parameters of year, doors and seats and prints out a formatted print statement with make, model, year, seats, and doors"
   ]
  },
  {
   "cell_type": "code",
   "execution_count": 53,
   "metadata": {},
   "outputs": [],
   "source": [
    "##### In-Class Exercise #3 - Create a class of animal with the following properties:\n",
    "\n",
    "#- Name\n",
    "#- Species\n",
    "#- Age\n",
    "\n",
    "#Create a method that allows you to increment their age by one"
   ]
  },
  {
   "cell_type": "code",
   "execution_count": 71,
   "metadata": {},
   "outputs": [],
   "source": [
    "class Animals:\n",
    "\n",
    "    def __init__(self, name, species, age):\n",
    "        self.name =  name\n",
    "        self.species =  species\n",
    "        self.age = age\n",
    "        \n",
    "    def aging(self, age):\n",
    "        self.age += age\n",
    "        \n",
    "    def print_info(self):\n",
    "        print(f\"{self.name} is a {self.species} who is {self.age} years old\")\n",
    "        \n"
   ]
  },
  {
   "cell_type": "code",
   "execution_count": 72,
   "metadata": {},
   "outputs": [
    {
     "name": "stdout",
     "output_type": "stream",
     "text": [
      "1\n",
      "Bosco is a cat who is 1 years old\n"
     ]
    }
   ],
   "source": [
    "Bosco.aging(1)\n",
    "print(Bosco.age)\n",
    "Bosco.print_info()"
   ]
  },
  {
   "cell_type": "markdown",
   "metadata": {},
   "source": [
    "## Inheritance <br>\n",
    "<p>You can create a child-parent relationship between two classes by using inheritance. What this allows you to do is have overriding methods, but also inherit traits from the parent class. Think of it as an actual parent and child, the child will inherit the parent's genes, as will the classes in OOP</p>"
   ]
  },
  {
   "cell_type": "markdown",
   "metadata": {},
   "source": [
    "##### Syntax for Inheriting from a Parent Class"
   ]
  },
  {
   "cell_type": "code",
   "execution_count": null,
   "metadata": {},
   "outputs": [],
   "source": [
    "class Fantasy_Character:\n",
    "    speed= 10\n",
    "    \n",
    "    def __init__(self, name, fantasy_class, stats):\n",
    "        self.name = name,\n",
    "        self.fantasy_class = fantasy_class,\n",
    "        self.stats = stats\n",
    "        \n",
    "    def display_character(self):\n",
    "        print(f'{self.name} {self.fantasy_class}')\n",
    "        \n",
    "class Human(Fantasy_Character):\n",
    "    \n",
    "    def display_class(self):\n",
    "        print(\"I am a human\")\n",
    "\n",
    "ex_stats={\n",
    "    'str':12,\n",
    "    'dex':15,\n",
    "    'cha':20\n",
    "}        \n",
    "        \n",
    "    \n",
    "nemo = Human('nemo', 'knight', ex_stats)\n",
    "\n",
    "nemo.display_class()\n",
    "\n",
    "nemo.display_character()\n",
    "\n",
    "print(nemo.stats)\n",
    "print(nemo.speed)\n",
    "\n",
    "#optional parenthesis?"
   ]
  },
  {
   "cell_type": "code",
   "execution_count": null,
   "metadata": {},
   "outputs": [],
   "source": [
    "##### The \\__init\\__() Method for a Child Class - super()"
   ]
  },
  {
   "cell_type": "code",
   "execution_count": 11,
   "metadata": {
    "scrolled": true
   },
   "outputs": [
    {
     "ename": "TypeError",
     "evalue": "__init__() takes 4 positional arguments but 5 were given",
     "output_type": "error",
     "traceback": [
      "\u001b[1;31m---------------------------------------------------------------------------\u001b[0m",
      "\u001b[1;31mTypeError\u001b[0m                                 Traceback (most recent call last)",
      "\u001b[1;32m<ipython-input-11-0fe83d9b8c2d>\u001b[0m in \u001b[0;36m<module>\u001b[1;34m\u001b[0m\n\u001b[0;32m     19\u001b[0m }  \n\u001b[0;32m     20\u001b[0m \u001b[1;33m\u001b[0m\u001b[0m\n\u001b[1;32m---> 21\u001b[1;33m \u001b[0mbilbo\u001b[0m \u001b[1;33m=\u001b[0m \u001b[0mHobbit\u001b[0m\u001b[1;33m(\u001b[0m\u001b[1;34m'bilbo'\u001b[0m\u001b[1;33m,\u001b[0m \u001b[1;34m'ranger'\u001b[0m\u001b[1;33m,\u001b[0m \u001b[0mex_stats\u001b[0m\u001b[1;33m,\u001b[0m \u001b[1;36m4\u001b[0m\u001b[1;33m)\u001b[0m\u001b[1;33m\u001b[0m\u001b[1;33m\u001b[0m\u001b[0m\n\u001b[0m\u001b[0;32m     22\u001b[0m \u001b[1;33m\u001b[0m\u001b[0m\n\u001b[0;32m     23\u001b[0m \u001b[0mprint\u001b[0m\u001b[1;33m(\u001b[0m\u001b[0mbilbo\u001b[0m\u001b[1;33m.\u001b[0m\u001b[0mspeed\u001b[0m\u001b[1;33m)\u001b[0m\u001b[1;33m\u001b[0m\u001b[1;33m\u001b[0m\u001b[0m\n",
      "\u001b[1;31mTypeError\u001b[0m: __init__() takes 4 positional arguments but 5 were given"
     ]
    }
   ],
   "source": [
    "from random import randint\n",
    "class Hobbit(Fantasy_Character):\n",
    "    speed = 13\n",
    "    \n",
    "    def __init(self, name, fantasy_class, stats, height):\n",
    "        super().__init__(name, fantasy_class, stats)\n",
    "        self.height = height\n",
    "        \n",
    "    def lucky(self):\n",
    "        print(f'You rolled a {randient(1, self.stats[\"dex\"])}')\n",
    "        \n",
    "    def display_my_class(self):\n",
    "        print('My class is a Hobbit')\n",
    "              \n",
    "    ex_stats={\n",
    "    'str':12,\n",
    "    'dex':15,\n",
    "    'cha':20\n",
    "}  \n",
    "              \n",
    "bilbo = Hobbit('bilbo', 'ranger', ex_stats, 4)\n",
    "              \n",
    "print(bilbo.speed)\n",
    "              \n",
    "bilbo.lucky()\n",
    "        "
   ]
  },
  {
   "cell_type": "markdown",
   "metadata": {},
   "source": [
    "##### Defining Attributes and Methods for the Child Class"
   ]
  },
  {
   "cell_type": "code",
   "execution_count": null,
   "metadata": {},
   "outputs": [],
   "source": [
    "# See Above"
   ]
  },
  {
   "cell_type": "markdown",
   "metadata": {},
   "source": [
    "##### Method Overriding"
   ]
  },
  {
   "cell_type": "code",
   "execution_count": null,
   "metadata": {},
   "outputs": [],
   "source": [
    "# See Above"
   ]
  },
  {
   "cell_type": "markdown",
   "metadata": {},
   "source": [
    "## Classes as Attributes <br>\n",
    "<p>Classes can also be used as attributes within another class. This is useful in situations where you need to keep variables locally stored, instead of globally stored.</p>"
   ]
  },
  {
   "cell_type": "code",
   "execution_count": null,
   "metadata": {},
   "outputs": [],
   "source": []
  },
  {
   "cell_type": "code",
   "execution_count": 73,
   "metadata": {},
   "outputs": [
    {
     "name": "stdout",
     "output_type": "stream",
     "text": [
      "What is your name? acel\n",
      "What is your address? 1254 sfg\n",
      "Would you like to continue (y/n): n\n",
      "{'acel': '1254 sfg'}\n"
     ]
    }
   ],
   "source": [
    "from IPython.display import clear_output\n",
    "\n",
    "# step 2\n",
    "address_book = {}\n",
    "\n",
    "# step 1\n",
    "def store_info(name, address):\n",
    "    address_book[name] = address\n",
    "    \n",
    "def main():\n",
    "    # address_book = {}\n",
    "    # step 3\n",
    "    while True:\n",
    "        clear_output()\n",
    "        # step 4\n",
    "        name = input('What is your name? ')\n",
    "        address = input('What is your address? ')\n",
    "        # print(name, address)\n",
    "        \n",
    "        store_info(name, address)\n",
    "        \n",
    "        cont = input('Would you like to continue (y/n): ')\n",
    "        \n",
    "        if cont == 'n':\n",
    "            break\n",
    "            \n",
    "    print(address_book)\n",
    "        \n",
    "main()"
   ]
  },
  {
   "cell_type": "code",
   "execution_count": null,
   "metadata": {},
   "outputs": [],
   "source": [
    "class AddressBook:\n",
    "    def __init__(self):\n",
    "        self.contacts = []\n",
    "        \n",
    "    def add_contact(self):\n",
    "        name =  input('Enter Name: ')\n",
    "        phone_number = input('Enter Phone Number: ')\n",
    "        address = input('Enter Address:')\n",
    "        email = input('enter Email: ')\n",
    "        \n",
    "        new_contact = Contact(name, phone_number, address, email)\n",
    "        self.contacts.append(new_contact)\n",
    "     \n",
    "    def delete_contact(self):\n",
    "        delete_name = input('Enter name to delete: ')\n",
    "        \n",
    "        for i in range(len(self_contacts)):\n",
    "            if self.contacts[i].name == delete_name:\n",
    "                self.contacts.pop(i)\n",
    "                print('Contact Deleted')\n",
    "                return\n",
    "        print(f'{delete_name} was not found.')\n",
    "        \n",
    "    def print_contacts(self):\n",
    "        for contact in self.contacts:\n",
    "            print(f'{contact.name}')\n",
    "            print(f'Phone Number: {contact.phone_number}')\n",
    "            print(f'Address: {contact.address}')\n",
    "            print(f'Email: {contact.email}')\n",
    "            \n",
    "    def run(self):\n",
    "        while True:\n",
    "            user_choice= input('What would you like to do? (add/delete/show/quit)').lower()\n",
    "            \n",
    "            if user_choice == 'add':\n",
    "                self.add_contact()\n",
    "                \n",
    "            elif user_choice == 'delete':\n",
    "                self.deleve_contact()\n",
    "            elif user_choice == 'show':\n",
    "                self.print_contacts()\n",
    "            elif user_choice == 'quit'\n",
    "                self.print_contancts()\n",
    "                return\n",
    "            else:\n",
    "                print('That was not a valid input, please try again.')\n",
    "    \n",
    "class Contact:\n",
    "    def __init__(self, name, phone_number, address, email):\n",
    "        self.name = name\n",
    "        self.phone_number = phone_number\n",
    "        self.address = address\n",
    "        self.email = email"
   ]
  },
  {
   "cell_type": "code",
   "execution_count": null,
   "metadata": {},
   "outputs": [],
   "source": [
    "my_book = AddressBook()\n",
    "my_book.run()"
   ]
  },
  {
   "cell_type": "markdown",
   "metadata": {},
   "source": [
    "# Exercises"
   ]
  },
  {
   "cell_type": "markdown",
   "metadata": {},
   "source": [
    "### Exercise 1 - Turn the shopping cart program from yesterday into an object-oriented program\n",
    "\n",
    "The comments in the cell below are there as a guide for thinking about the problem. However, if you feel a different way is best for you and your own thought process, please do what feels best for you by all means."
   ]
  },
  {
   "cell_type": "code",
   "execution_count": null,
   "metadata": {},
   "outputs": [],
   "source": [
    "# Create a class called cart that retains items and has methods to add, remove, and show\n",
    "\n",
    "class Cart():\n",
    "    pass\n",
    "    "
   ]
  },
  {
   "cell_type": "markdown",
   "metadata": {},
   "source": [
    "### Exercise 2 - Write a Python class which has two methods get_String and print_String. get_String accept a string from the user and print_String print the string in upper case"
   ]
  },
  {
   "cell_type": "code",
   "execution_count": null,
   "metadata": {},
   "outputs": [],
   "source": []
  }
 ],
 "metadata": {
  "kernelspec": {
   "display_name": "Python 3",
   "language": "python",
   "name": "python3"
  },
  "language_info": {
   "codemirror_mode": {
    "name": "ipython",
    "version": 3
   },
   "file_extension": ".py",
   "mimetype": "text/x-python",
   "name": "python",
   "nbconvert_exporter": "python",
   "pygments_lexer": "ipython3",
   "version": "3.7.3"
  }
 },
 "nbformat": 4,
 "nbformat_minor": 2
}
